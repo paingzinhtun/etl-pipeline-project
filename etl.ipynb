{
 "cells": [
  {
   "cell_type": "code",
   "execution_count": 1,
   "id": "7f118a23-37bb-4c00-a6ca-a5ec6ac8a346",
   "metadata": {},
   "outputs": [],
   "source": [
    "import pandas as pd\n",
    "\n",
    "# Load datasets\n",
    "df_customers = pd.read_csv(\"customers.csv\", parse_dates=[\"signup_date\"])\n",
    "df_products = pd.read_csv(\"products.csv\")\n",
    "df_transactions = pd.read_csv(\"transactions.csv\", parse_dates=[\"order_date\"])"
   ]
  },
  {
   "cell_type": "code",
   "execution_count": 2,
   "id": "a521197f-5035-421f-a33e-64b68804879c",
   "metadata": {},
   "outputs": [
    {
     "name": "stdout",
     "output_type": "stream",
     "text": [
      "                            customer_id               name  \\\n",
      "0  5f32def8-bbc6-422b-8b36-25de4544f51a         Sara James   \n",
      "1  fc7797fe-c9bd-4e8f-809f-f8a919d40ec9   Zachary Williams   \n",
      "2  31b5d696-1ed4-48be-adf1-5df9589f83c4     Kathryn Rivera   \n",
      "3  bf8108fb-ca10-4f90-b672-f01124d0c995      Ashley Bolton   \n",
      "4  f8423a51-b9f3-470b-b233-ea3478a5eaf9  Stephanie Collins   \n",
      "\n",
      "                    email     location signup_date  \n",
      "0    melaniemay@yahoo.com  North Brian  2022-09-13  \n",
      "1         pward@yahoo.com  Kristinview  2024-08-07  \n",
      "2        gmoses@gmail.com      Tinaton  2021-12-13  \n",
      "3    cherylgill@gmail.com    Tonymouth  2020-08-12  \n",
      "4  bonnievaughn@gmail.com   Soniaville  2021-01-30  \n",
      "_________________\n",
      "                             product_id    product_name        category  \\\n",
      "0  13ad1499-2dc2-49f6-b508-d7f73d77358d  National Ultra            Toys   \n",
      "1  b919ff66-2ed4-4208-8e47-523e5181efbc      Remain Max          Beauty   \n",
      "2  b957fdc0-4592-49ee-9b20-5b96d9cd13e5       Water Max  Home & Kitchen   \n",
      "3  2e45ed3a-4215-452f-a087-0415193d744c     Child Ultra            Toys   \n",
      "4  c7b2f94b-037e-4b04-804d-a9b504dc26bb    Central Plus          Sports   \n",
      "\n",
      "    price  \n",
      "0  440.90  \n",
      "1  193.89  \n",
      "2  146.99  \n",
      "3  310.14  \n",
      "4  184.37  \n",
      "_________________\n",
      "                               order_id                           customer_id  \\\n",
      "0  1118939c-2826-40b8-8794-45e1cc511034  36fe701b-fcca-4bba-9eeb-d660e88199cd   \n",
      "1  1fc5d4a7-2c28-43f1-81ac-a7715fbf7ec4  40908b50-d26d-4b76-b02e-c7b5412a0a3a   \n",
      "2  1794335e-0f7f-4463-85ef-80c3a0aa9633  537c05d2-a8b8-4f25-809e-b3b3519b424c   \n",
      "3  0b4c0186-8140-4427-8564-84da75994fd5  553d6908-7618-4c76-bec5-de4d986594a2   \n",
      "4  72af02b0-7eb8-4854-adac-4e64a2a45fa1  60e15002-7e7a-4339-b7e4-965b955daa5f   \n",
      "\n",
      "   total_amount    payment_method order_date  \n",
      "0        156.28            PayPal 2025-03-01  \n",
      "1        192.73            PayPal 2024-08-28  \n",
      "2        611.71  Cash on Delivery 2024-01-30  \n",
      "3        132.58        Debit Card 2024-05-08  \n",
      "4        568.93            PayPal 2024-10-12  \n"
     ]
    }
   ],
   "source": [
    "# Inspect data\n",
    "print(df_customers.head())\n",
    "print(\"_________________\")\n",
    "print(df_products.head())\n",
    "print(\"_________________\")\n",
    "print(df_transactions.head())"
   ]
  },
  {
   "cell_type": "code",
   "execution_count": 3,
   "id": "46d0489d-0066-441f-a5ef-75c8c9d882a0",
   "metadata": {},
   "outputs": [
    {
     "name": "stdout",
     "output_type": "stream",
     "text": [
      "customer_id    0\n",
      "name           0\n",
      "email          0\n",
      "location       0\n",
      "signup_date    0\n",
      "dtype: int64\n",
      "_________________\n",
      "product_id      0\n",
      "product_name    0\n",
      "category        0\n",
      "price           0\n",
      "dtype: int64\n",
      "_________________\n",
      "order_id          0\n",
      "customer_id       0\n",
      "total_amount      0\n",
      "payment_method    0\n",
      "order_date        0\n",
      "dtype: int64\n"
     ]
    }
   ],
   "source": [
    "# Check for missing values\n",
    "print(df_customers.isnull().sum())\n",
    "print(\"_________________\")\n",
    "print(df_products.isnull().sum())\n",
    "print(\"_________________\")\n",
    "print(df_transactions.isnull().sum())"
   ]
  },
  {
   "cell_type": "code",
   "execution_count": 4,
   "id": "b8a982a5-9a14-4898-98c6-bc1ac1716a10",
   "metadata": {},
   "outputs": [],
   "source": [
    "# Convert price and total_amount to float\n",
    "df_products[\"price\"] = df_products[\"price\"].astype(float)\n",
    "df_transactions[\"total_amount\"] = df_transactions[\"total_amount\"].astype(float)"
   ]
  },
  {
   "cell_type": "code",
   "execution_count": 5,
   "id": "81036df7-173c-4362-971c-43e2a21893c3",
   "metadata": {},
   "outputs": [],
   "source": [
    "# Add derived columns\n",
    "df_transactions[\"order_year\"] = df_transactions[\"order_date\"].dt.year\n",
    "df_transactions[\"order_month\"] = df_transactions[\"order_date\"].dt.month"
   ]
  },
  {
   "cell_type": "code",
   "execution_count": 6,
   "id": "3bebb607-a158-41f4-a5f4-1ba5a4b48b63",
   "metadata": {},
   "outputs": [
    {
     "name": "stdout",
     "output_type": "stream",
     "text": [
      "Data Transformation Completed!\n"
     ]
    }
   ],
   "source": [
    "# Save cleaned data (optional)\n",
    "df_customers.to_csv(\"cleaned_customers.csv\", index=False)\n",
    "df_products.to_csv(\"cleaned_products.csv\", index=False)\n",
    "df_transactions.to_csv(\"cleaned_transactions.csv\", index=False)\n",
    "\n",
    "print(\"Data Transformation Completed!\")"
   ]
  },
  {
   "cell_type": "code",
   "execution_count": 8,
   "id": "484242e4-f074-47fc-8be5-4b1438901c81",
   "metadata": {},
   "outputs": [],
   "source": [
    "from sqlalchemy import create_engine\n",
    "import pandas as pd\n",
    "\n",
    "# Database credentials\n",
    "DB_USER = \"postgres\"  # Replace with your PostgreSQL username\n",
    "DB_PASSWORD = \"8484123\"  # Replace with your PostgreSQL password\n",
    "DB_HOST = \"localhost\"\n",
    "DB_PORT = \"5432\"\n",
    "DB_NAME = \"etl_project\"\n",
    "\n",
    "# Create the connection URL\n",
    "DATABASE_URL = f\"postgresql://{DB_USER}:{DB_PASSWORD}@{DB_HOST}:{DB_PORT}/{DB_NAME}\"\n",
    "\n",
    "# Create the SQLAlchemy engine\n",
    "engine = create_engine(DATABASE_URL)\n"
   ]
  },
  {
   "cell_type": "code",
   "execution_count": 9,
   "id": "ff453e58-96de-44b7-b217-8dee6cf3a785",
   "metadata": {},
   "outputs": [
    {
     "name": "stdout",
     "output_type": "stream",
     "text": [
      "                            customer_id               name  \\\n",
      "0  5f32def8-bbc6-422b-8b36-25de4544f51a         Sara James   \n",
      "1  fc7797fe-c9bd-4e8f-809f-f8a919d40ec9   Zachary Williams   \n",
      "2  31b5d696-1ed4-48be-adf1-5df9589f83c4     Kathryn Rivera   \n",
      "3  bf8108fb-ca10-4f90-b672-f01124d0c995      Ashley Bolton   \n",
      "4  f8423a51-b9f3-470b-b233-ea3478a5eaf9  Stephanie Collins   \n",
      "\n",
      "                    email     location signup_date  \n",
      "0    melaniemay@yahoo.com  North Brian  2022-09-13  \n",
      "1         pward@yahoo.com  Kristinview  2024-08-07  \n",
      "2        gmoses@gmail.com      Tinaton  2021-12-13  \n",
      "3    cherylgill@gmail.com    Tonymouth  2020-08-12  \n",
      "4  bonnievaughn@gmail.com   Soniaville  2021-01-30  \n",
      "                             product_id    product_name        category  \\\n",
      "0  13ad1499-2dc2-49f6-b508-d7f73d77358d  National Ultra            Toys   \n",
      "1  b919ff66-2ed4-4208-8e47-523e5181efbc      Remain Max          Beauty   \n",
      "2  b957fdc0-4592-49ee-9b20-5b96d9cd13e5       Water Max  Home & Kitchen   \n",
      "3  2e45ed3a-4215-452f-a087-0415193d744c     Child Ultra            Toys   \n",
      "4  c7b2f94b-037e-4b04-804d-a9b504dc26bb    Central Plus          Sports   \n",
      "\n",
      "    price  \n",
      "0  440.90  \n",
      "1  193.89  \n",
      "2  146.99  \n",
      "3  310.14  \n",
      "4  184.37  \n",
      "                               order_id                           customer_id  \\\n",
      "0  1118939c-2826-40b8-8794-45e1cc511034  36fe701b-fcca-4bba-9eeb-d660e88199cd   \n",
      "1  1fc5d4a7-2c28-43f1-81ac-a7715fbf7ec4  40908b50-d26d-4b76-b02e-c7b5412a0a3a   \n",
      "2  1794335e-0f7f-4463-85ef-80c3a0aa9633  537c05d2-a8b8-4f25-809e-b3b3519b424c   \n",
      "3  0b4c0186-8140-4427-8564-84da75994fd5  553d6908-7618-4c76-bec5-de4d986594a2   \n",
      "4  72af02b0-7eb8-4854-adac-4e64a2a45fa1  60e15002-7e7a-4339-b7e4-965b955daa5f   \n",
      "\n",
      "   total_amount    payment_method  order_date  order_year  order_month  \n",
      "0        156.28            PayPal  2025-03-01        2025            3  \n",
      "1        192.73            PayPal  2024-08-28        2024            8  \n",
      "2        611.71  Cash on Delivery  2024-01-30        2024            1  \n",
      "3        132.58        Debit Card  2024-05-08        2024            5  \n",
      "4        568.93            PayPal  2024-10-12        2024           10  \n"
     ]
    }
   ],
   "source": [
    "# Load CSV data\n",
    "df_customers = pd.read_csv(\"cleaned_customers.csv\")\n",
    "df_products = pd.read_csv(\"cleaned_products.csv\")\n",
    "df_transactions = pd.read_csv(\"cleaned_transactions.csv\")\n",
    "\n",
    "# Optional: Print the first few rows to confirm data\n",
    "print(df_customers.head())\n",
    "print(df_products.head())\n",
    "print(df_transactions.head())"
   ]
  },
  {
   "cell_type": "code",
   "execution_count": 10,
   "id": "10f930f3-a7cc-4b33-91c9-be592a30763e",
   "metadata": {},
   "outputs": [
    {
     "name": "stdout",
     "output_type": "stream",
     "text": [
      "✅ Data successfully loaded into PostgreSQL!\n"
     ]
    }
   ],
   "source": [
    "# Insert data into PostgreSQL using the connection engine\n",
    "try:\n",
    "    df_customers.to_sql(\"customers\", con=engine, if_exists=\"replace\", index=False)\n",
    "    df_products.to_sql(\"products\", con=engine, if_exists=\"replace\", index=False)\n",
    "    df_transactions.to_sql(\"transactions\", con=engine, if_exists=\"replace\", index=False)\n",
    "    print(\"✅ Data successfully loaded into PostgreSQL!\")\n",
    "except Exception as e:\n",
    "    print(f\"❌ Error: {e}\")"
   ]
  },
  {
   "cell_type": "code",
   "execution_count": null,
   "id": "bfcc1426-5f6b-49a5-9a79-cde9b9c6296b",
   "metadata": {},
   "outputs": [],
   "source": []
  }
 ],
 "metadata": {
  "kernelspec": {
   "display_name": "Python 3 (ipykernel)",
   "language": "python",
   "name": "python3"
  },
  "language_info": {
   "codemirror_mode": {
    "name": "ipython",
    "version": 3
   },
   "file_extension": ".py",
   "mimetype": "text/x-python",
   "name": "python",
   "nbconvert_exporter": "python",
   "pygments_lexer": "ipython3",
   "version": "3.12.4"
  }
 },
 "nbformat": 4,
 "nbformat_minor": 5
}
